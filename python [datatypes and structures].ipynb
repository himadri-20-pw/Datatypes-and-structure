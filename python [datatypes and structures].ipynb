{
 "cells": [
  {
   "cell_type": "markdown",
   "id": "5199cc49-aca6-4cf1-9cb4-bb8dc147c246",
   "metadata": {},
   "source": [
    "# Datatypes and Structures Questions ---"
   ]
  },
  {
   "cell_type": "markdown",
   "id": "44d745f0-cb96-4ac6-88e1-dacae557fc7a",
   "metadata": {
    "jp-MarkdownHeadingCollapsed": true
   },
   "source": [
    "## Q1)What are data structures, and why are they important?"
   ]
  },
  {
   "cell_type": "markdown",
   "id": "ca88736f-47eb-4687-a5bc-dbd8e79ba712",
   "metadata": {},
   "source": [
    "#### ANS- Data structures are the way of organizing and storing data so that it can be accessed and manipulated efficiently. They are important as it makes code easier to read ,understand and maintain.They even allow for faster and more efficient data access,insertion,deletion and searching. It plays a crucial role in understanding and solving complex problems in computer science sector."
   ]
  },
  {
   "cell_type": "markdown",
   "id": "96b9a5a0-209a-440c-a7e6-dded075cba2c",
   "metadata": {
    "jp-MarkdownHeadingCollapsed": true
   },
   "source": [
    "## Q2)Explain the difference between mutable and immutable data types with examples."
   ]
  },
  {
   "cell_type": "markdown",
   "id": "cb94dc11-7dfe-4333-948c-2d2520b07e6e",
   "metadata": {
    "jp-MarkdownHeadingCollapsed": true
   },
   "source": [
    "#### ANS- Mutable data types >>> Data types whose values can be changed after being created.Examples:- Lists,Dictionaries,Sets."
   ]
  },
  {
   "cell_type": "code",
   "execution_count": 7,
   "id": "f95c8dae-9578-4ec3-9022-784aa1cc2336",
   "metadata": {},
   "outputs": [
    {
     "data": {
      "text/plain": [
       "['Giraffe', 'tress', 27.33, (9+3j), True]"
      ]
     },
     "execution_count": 7,
     "metadata": {},
     "output_type": "execute_result"
    }
   ],
   "source": [
    "#Example-1\n",
    "list1=[\"Giraffe\", \"tress\",27.33,(9+3j),True]\n",
    "list1"
   ]
  },
  {
   "cell_type": "code",
   "execution_count": 8,
   "id": "82edd281-f688-49c9-a0c2-05e3026584c0",
   "metadata": {},
   "outputs": [
    {
     "data": {
      "text/plain": [
       "['Giraffe', 'tress', 27.33, 'Elephant', True]"
      ]
     },
     "execution_count": 8,
     "metadata": {},
     "output_type": "execute_result"
    }
   ],
   "source": [
    "list1[3]=\"Elephant\"\n",
    "list1"
   ]
  },
  {
   "cell_type": "code",
   "execution_count": 9,
   "id": "70448cb3-f07d-49b9-907a-9caa662799d1",
   "metadata": {},
   "outputs": [
    {
     "data": {
      "text/plain": [
       "{'name': 'Suhani', 'roll no.': 24155537, 'section': 'A22'}"
      ]
     },
     "execution_count": 9,
     "metadata": {},
     "output_type": "execute_result"
    }
   ],
   "source": [
    "#Example-2\n",
    "d = {\"name\":\"Suhani\", \"roll no.\":24155537, \"section\":\"A22\"}\n",
    "d"
   ]
  },
  {
   "cell_type": "code",
   "execution_count": 10,
   "id": "76258898-ea8c-47a3-beb2-2dc98f4f864e",
   "metadata": {},
   "outputs": [
    {
     "data": {
      "text/plain": [
       "{'name': 'Suhani', 'roll no.': 24155537, 'section': 'B12'}"
      ]
     },
     "execution_count": 10,
     "metadata": {},
     "output_type": "execute_result"
    }
   ],
   "source": [
    "d['section'] = \"B12\"\n",
    "d"
   ]
  },
  {
   "cell_type": "markdown",
   "id": "8dada1a7-3688-41f4-b855-c46cbd65ec1d",
   "metadata": {
    "jp-MarkdownHeadingCollapsed": true
   },
   "source": [
    "#### Immutable data types >>> Data types whose values cannot be changed after once being created.Examples:-Strings,Tuples."
   ]
  },
  {
   "cell_type": "code",
   "execution_count": 14,
   "id": "418e75e8-ef02-462d-84ef-301c2605278d",
   "metadata": {},
   "outputs": [
    {
     "data": {
      "text/plain": [
       "'h'"
      ]
     },
     "execution_count": 14,
     "metadata": {},
     "output_type": "execute_result"
    }
   ],
   "source": [
    "#Example-3\n",
    "s=\"Python\"\n",
    "s[3]"
   ]
  },
  {
   "cell_type": "code",
   "execution_count": 13,
   "id": "0146342b-23da-435d-b55e-350250a492f0",
   "metadata": {},
   "outputs": [
    {
     "ename": "TypeError",
     "evalue": "'str' object does not support item assignment",
     "output_type": "error",
     "traceback": [
      "\u001b[31m---------------------------------------------------------------------------\u001b[39m",
      "\u001b[31mTypeError\u001b[39m                                 Traceback (most recent call last)",
      "\u001b[36mCell\u001b[39m\u001b[36m \u001b[39m\u001b[32mIn[13]\u001b[39m\u001b[32m, line 1\u001b[39m\n\u001b[32m----> \u001b[39m\u001b[32m1\u001b[39m \u001b[43ms\u001b[49m\u001b[43m[\u001b[49m\u001b[32;43m2\u001b[39;49m\u001b[43m]\u001b[49m=\u001b[33m\"\u001b[39m\u001b[33ml\u001b[39m\u001b[33m\"\u001b[39m\n",
      "\u001b[31mTypeError\u001b[39m: 'str' object does not support item assignment"
     ]
    }
   ],
   "source": [
    "s[2]=\"l\""
   ]
  },
  {
   "cell_type": "code",
   "execution_count": 19,
   "id": "1c85203e-6ae5-4720-9f51-cc88dd1bac3d",
   "metadata": {},
   "outputs": [
    {
     "data": {
      "text/plain": [
       "('Python', 56, 'yash', 23.56, False)"
      ]
     },
     "execution_count": 19,
     "metadata": {},
     "output_type": "execute_result"
    }
   ],
   "source": [
    "#Example-4\n",
    "t = (\"Python\",56,\"yash\", 23.56,False)\n",
    "t"
   ]
  },
  {
   "cell_type": "code",
   "execution_count": 17,
   "id": "9172ee29-a832-4b3c-84e6-5e3d670fccee",
   "metadata": {},
   "outputs": [
    {
     "data": {
      "text/plain": [
       "'yash'"
      ]
     },
     "execution_count": 17,
     "metadata": {},
     "output_type": "execute_result"
    }
   ],
   "source": [
    "t[2]"
   ]
  },
  {
   "cell_type": "code",
   "execution_count": 18,
   "id": "1748c36d-0359-4bee-acfd-b6240acdfcad",
   "metadata": {},
   "outputs": [
    {
     "ename": "TypeError",
     "evalue": "'tuple' object does not support item assignment",
     "output_type": "error",
     "traceback": [
      "\u001b[31m---------------------------------------------------------------------------\u001b[39m",
      "\u001b[31mTypeError\u001b[39m                                 Traceback (most recent call last)",
      "\u001b[36mCell\u001b[39m\u001b[36m \u001b[39m\u001b[32mIn[18]\u001b[39m\u001b[32m, line 1\u001b[39m\n\u001b[32m----> \u001b[39m\u001b[32m1\u001b[39m \u001b[43mt\u001b[49m\u001b[43m[\u001b[49m\u001b[32;43m1\u001b[39;49m\u001b[43m]\u001b[49m = \u001b[32m100\u001b[39m\n",
      "\u001b[31mTypeError\u001b[39m: 'tuple' object does not support item assignment"
     ]
    }
   ],
   "source": [
    "t[1] = 100"
   ]
  },
  {
   "cell_type": "markdown",
   "id": "70924bda-460a-40ae-85b9-50555af4e586",
   "metadata": {
    "jp-MarkdownHeadingCollapsed": true
   },
   "source": [
    "## Q3)What are the main differences between lists and tuples in Python?"
   ]
  },
  {
   "cell_type": "markdown",
   "id": "8bdf99df-c0b9-4813-a819-250678c896b9",
   "metadata": {},
   "source": [
    "#### ANS- The main key differences between lists and tuples in Python is Lists are mutable objects whereas Tuples are immutable objects.Lists are created with \"[]\" whereas Tuples are created with \"()\".Examples:-"
   ]
  },
  {
   "cell_type": "code",
   "execution_count": 28,
   "id": "5e17475f-eade-44a4-889e-45fd7401cf2b",
   "metadata": {},
   "outputs": [
    {
     "data": {
      "text/plain": [
       "list"
      ]
     },
     "execution_count": 28,
     "metadata": {},
     "output_type": "execute_result"
    }
   ],
   "source": [
    "#Ex-1\n",
    "type([])"
   ]
  },
  {
   "cell_type": "code",
   "execution_count": 29,
   "id": "ed2f8210-26ed-4f41-bcb2-5a98b177f504",
   "metadata": {},
   "outputs": [
    {
     "data": {
      "text/plain": [
       "tuple"
      ]
     },
     "execution_count": 29,
     "metadata": {},
     "output_type": "execute_result"
    }
   ],
   "source": [
    "t = ()\n",
    "type(t)"
   ]
  },
  {
   "cell_type": "code",
   "execution_count": 30,
   "id": "6a6d69bb-24fb-45da-b920-f574eef6b0bb",
   "metadata": {},
   "outputs": [
    {
     "data": {
      "text/plain": [
       "['skirt', 'top', 'lipstick']"
      ]
     },
     "execution_count": 30,
     "metadata": {},
     "output_type": "execute_result"
    }
   ],
   "source": [
    "#Ex-2\n",
    "shopping_bag = [\"skirt\", \"top\",\"lipstick\"]\n",
    "shopping_bag "
   ]
  },
  {
   "cell_type": "code",
   "execution_count": 31,
   "id": "2bc6abab-c0e8-4edc-8e4e-23a4d1484ee2",
   "metadata": {},
   "outputs": [
    {
     "data": {
      "text/plain": [
       "['jeans', 'top', 'lipstick']"
      ]
     },
     "execution_count": 31,
     "metadata": {},
     "output_type": "execute_result"
    }
   ],
   "source": [
    "shopping_bag[0]=\"jeans\"\n",
    "shopping_bag "
   ]
  },
  {
   "cell_type": "code",
   "execution_count": 32,
   "id": "7ec76eba-8197-4cd5-851d-11ccf6721ea1",
   "metadata": {},
   "outputs": [
    {
     "data": {
      "text/plain": [
       "('pen', 'notebook', 'pencil')"
      ]
     },
     "execution_count": 32,
     "metadata": {},
     "output_type": "execute_result"
    }
   ],
   "source": [
    "purse = (\"pen\", \"notebook\",\"pencil\")\n",
    "purse"
   ]
  },
  {
   "cell_type": "code",
   "execution_count": 33,
   "id": "0c46f5ed-5ab8-42ee-ac6e-2b4d58e24a4c",
   "metadata": {},
   "outputs": [
    {
     "ename": "TypeError",
     "evalue": "'tuple' object does not support item assignment",
     "output_type": "error",
     "traceback": [
      "\u001b[31m---------------------------------------------------------------------------\u001b[39m",
      "\u001b[31mTypeError\u001b[39m                                 Traceback (most recent call last)",
      "\u001b[36mCell\u001b[39m\u001b[36m \u001b[39m\u001b[32mIn[33]\u001b[39m\u001b[32m, line 1\u001b[39m\n\u001b[32m----> \u001b[39m\u001b[32m1\u001b[39m \u001b[43mpurse\u001b[49m\u001b[43m[\u001b[49m\u001b[32;43m0\u001b[39;49m\u001b[43m]\u001b[49m=\u001b[33m\"\u001b[39m\u001b[33meraser\u001b[39m\u001b[33m\"\u001b[39m\n",
      "\u001b[31mTypeError\u001b[39m: 'tuple' object does not support item assignment"
     ]
    }
   ],
   "source": [
    "purse[0]=\"eraser\""
   ]
  },
  {
   "cell_type": "markdown",
   "id": "19fa80fc-765d-4129-b647-eca8156748e4",
   "metadata": {
    "jp-MarkdownHeadingCollapsed": true
   },
   "source": [
    "## Q4)Describe how dictionaries store data."
   ]
  },
  {
   "cell_type": "markdown",
   "id": "3f719abd-d89b-4f43-b29e-b6548481c0f0",
   "metadata": {},
   "source": [
    "#### ANS- Dictionaries stores data as key value pair.Keys are unique and immutable objects.The values stores in dictionaries can be access using keys.Example:-"
   ]
  },
  {
   "cell_type": "code",
   "execution_count": 36,
   "id": "35339dae-c85d-47ab-9cbb-ed0ad963806a",
   "metadata": {},
   "outputs": [
    {
     "data": {
      "text/plain": [
       "{'Name': 'Sanjib', 'Room no.': 'B514', 'contact no.': 5416853206}"
      ]
     },
     "execution_count": 36,
     "metadata": {},
     "output_type": "execute_result"
    }
   ],
   "source": [
    "#Ex:\n",
    "d = {\"Name\":\"Sanjib\", \"Room no.\":\"B514\", \"contact no.\": 5416853206}\n",
    "d"
   ]
  },
  {
   "cell_type": "code",
   "execution_count": 37,
   "id": "97bcb261-3c51-4c6b-89d6-4c83960feca6",
   "metadata": {},
   "outputs": [
    {
     "data": {
      "text/plain": [
       "'Sanjib'"
      ]
     },
     "execution_count": 37,
     "metadata": {},
     "output_type": "execute_result"
    }
   ],
   "source": [
    "d['Name']"
   ]
  },
  {
   "cell_type": "code",
   "execution_count": 38,
   "id": "237608b1-eaae-4ab9-b122-462f4df80c2b",
   "metadata": {},
   "outputs": [
    {
     "data": {
      "text/plain": [
       "'B514'"
      ]
     },
     "execution_count": 38,
     "metadata": {},
     "output_type": "execute_result"
    }
   ],
   "source": [
    "d['Room no.']"
   ]
  },
  {
   "cell_type": "code",
   "execution_count": 40,
   "id": "4b1219a9-c237-4769-aca4-263240691896",
   "metadata": {},
   "outputs": [],
   "source": [
    "d['Feedback']=\"Good\"          #insert new key-value pair into already existing dictionary."
   ]
  },
  {
   "cell_type": "code",
   "execution_count": 41,
   "id": "52355a6c-5714-464f-a50a-2561956a9027",
   "metadata": {},
   "outputs": [
    {
     "data": {
      "text/plain": [
       "{'Name': 'Sanjib',\n",
       " 'Room no.': 'B514',\n",
       " 'contact no.': 5416853206,\n",
       " 'Feedback': 'Good'}"
      ]
     },
     "execution_count": 41,
     "metadata": {},
     "output_type": "execute_result"
    }
   ],
   "source": [
    "d"
   ]
  },
  {
   "cell_type": "markdown",
   "id": "09645d7a-e3e2-4499-9af1-2e1893fbe726",
   "metadata": {
    "jp-MarkdownHeadingCollapsed": true
   },
   "source": [
    "## Q5)Why might you use a set instead of a list in Python?"
   ]
  },
  {
   "cell_type": "markdown",
   "id": "587ea5ae-0d23-42e8-9cb9-e4956bea2b22",
   "metadata": {},
   "source": [
    "#### ANS- We might use a set instead of a list in Python as sets are unordered and unique collection of elements.It doesn't alllow duplicate elements. Therefore it doesn't have any indexing .Sets also have set operations such as - Union, Intersection, difference, symmetric difference."
   ]
  },
  {
   "cell_type": "code",
   "execution_count": 44,
   "id": "15f74d16-a04d-4ba1-b65c-bfe2bbe76a76",
   "metadata": {},
   "outputs": [
    {
     "data": {
      "text/plain": [
       "{1, 2, 3, 4}"
      ]
     },
     "execution_count": 44,
     "metadata": {},
     "output_type": "execute_result"
    }
   ],
   "source": [
    "#Ex-1\n",
    "s = {1, 1, 2, 2, 3, 4}\n",
    "s"
   ]
  },
  {
   "cell_type": "code",
   "execution_count": 45,
   "id": "e1d39de1-8433-482e-a80f-cc4fdac842ae",
   "metadata": {},
   "outputs": [
    {
     "ename": "TypeError",
     "evalue": "'set' object is not subscriptable",
     "output_type": "error",
     "traceback": [
      "\u001b[31m---------------------------------------------------------------------------\u001b[39m",
      "\u001b[31mTypeError\u001b[39m                                 Traceback (most recent call last)",
      "\u001b[36mCell\u001b[39m\u001b[36m \u001b[39m\u001b[32mIn[45]\u001b[39m\u001b[32m, line 1\u001b[39m\n\u001b[32m----> \u001b[39m\u001b[32m1\u001b[39m \u001b[43ms\u001b[49m\u001b[43m[\u001b[49m\u001b[32;43m0\u001b[39;49m\u001b[43m]\u001b[49m \n",
      "\u001b[31mTypeError\u001b[39m: 'set' object is not subscriptable"
     ]
    }
   ],
   "source": [
    "s[0] "
   ]
  },
  {
   "cell_type": "code",
   "execution_count": 46,
   "id": "8debfed0-55e9-496a-8c34-68096d6544cc",
   "metadata": {},
   "outputs": [],
   "source": [
    "#Ex-2\n",
    "#set operations\n",
    "s1 = {\"pen\", \"pencil\", \"copy\"}\n",
    "s2 = {\"copy\", \"graph\", \"result\"}"
   ]
  },
  {
   "cell_type": "code",
   "execution_count": 47,
   "id": "25a3484f-8864-4fda-8e67-0e7100d05984",
   "metadata": {},
   "outputs": [
    {
     "data": {
      "text/plain": [
       "{'copy', 'graph', 'pen', 'pencil', 'result'}"
      ]
     },
     "execution_count": 47,
     "metadata": {},
     "output_type": "execute_result"
    }
   ],
   "source": [
    "#union>> combine all the elements\n",
    "s1 | s2"
   ]
  },
  {
   "cell_type": "code",
   "execution_count": 48,
   "id": "88be6159-742d-4cbd-ac8a-912f9b8020b7",
   "metadata": {},
   "outputs": [
    {
     "data": {
      "text/plain": [
       "{'copy'}"
      ]
     },
     "execution_count": 48,
     "metadata": {},
     "output_type": "execute_result"
    }
   ],
   "source": [
    "#intersection >> common elements\n",
    "s1 & s2"
   ]
  },
  {
   "cell_type": "code",
   "execution_count": 49,
   "id": "cf574f49-3d1e-427c-a84c-a9e477f45ab6",
   "metadata": {},
   "outputs": [
    {
     "data": {
      "text/plain": [
       "{'pen', 'pencil'}"
      ]
     },
     "execution_count": 49,
     "metadata": {},
     "output_type": "execute_result"
    }
   ],
   "source": [
    "#difference\n",
    "s1-s2"
   ]
  },
  {
   "cell_type": "code",
   "execution_count": 50,
   "id": "26514a65-f7f0-46e1-b7a4-45f30128aec3",
   "metadata": {},
   "outputs": [
    {
     "data": {
      "text/plain": [
       "{'graph', 'pen', 'pencil', 'result'}"
      ]
     },
     "execution_count": 50,
     "metadata": {},
     "output_type": "execute_result"
    }
   ],
   "source": [
    "#symmetric difference\n",
    "s1 ^ s2"
   ]
  },
  {
   "cell_type": "markdown",
   "id": "d70c3480-ef38-4f85-b9d9-66582ddf092b",
   "metadata": {
    "jp-MarkdownHeadingCollapsed": true
   },
   "source": [
    "## Q6)What is a string in Python, and how it is different from a list?"
   ]
  },
  {
   "cell_type": "markdown",
   "id": "baa2cb13-5142-4402-b59f-e3ff00d9fb93",
   "metadata": {
    "jp-MarkdownHeadingCollapsed": true
   },
   "source": [
    "#### ANS- String is a sequence of character to represent and manipulate textural data in Python."
   ]
  },
  {
   "cell_type": "markdown",
   "id": "d485c161-852f-4509-b5f8-c56e57366eaf",
   "metadata": {},
   "source": [
    "#### String is a sequence of character between single or double quotes whereas list is a sequence of items and here each items could be any data type.Strings are immutable whereas Lists are mutable.These are few ways in which string is different from a list."
   ]
  },
  {
   "cell_type": "code",
   "execution_count": 51,
   "id": "a80e517a-430a-40ad-a356-48e330372fb5",
   "metadata": {},
   "outputs": [
    {
     "data": {
      "text/plain": [
       "'SKILLS'"
      ]
     },
     "execution_count": 51,
     "metadata": {},
     "output_type": "execute_result"
    }
   ],
   "source": [
    "#Ex:\n",
    "str1=\"SKILLS\"\n",
    "str1"
   ]
  },
  {
   "cell_type": "code",
   "execution_count": 52,
   "id": "bc511663-a8fa-4681-af1c-78fb16a93d80",
   "metadata": {},
   "outputs": [
    {
     "data": {
      "text/plain": [
       "str"
      ]
     },
     "execution_count": 52,
     "metadata": {},
     "output_type": "execute_result"
    }
   ],
   "source": [
    "type(str1)"
   ]
  },
  {
   "cell_type": "code",
   "execution_count": 53,
   "id": "77ee350b-8b06-42ca-9689-bd52faed386b",
   "metadata": {},
   "outputs": [
    {
     "ename": "TypeError",
     "evalue": "'str' object does not support item assignment",
     "output_type": "error",
     "traceback": [
      "\u001b[31m---------------------------------------------------------------------------\u001b[39m",
      "\u001b[31mTypeError\u001b[39m                                 Traceback (most recent call last)",
      "\u001b[36mCell\u001b[39m\u001b[36m \u001b[39m\u001b[32mIn[53]\u001b[39m\u001b[32m, line 1\u001b[39m\n\u001b[32m----> \u001b[39m\u001b[32m1\u001b[39m \u001b[43mstr1\u001b[49m\u001b[43m[\u001b[49m\u001b[32;43m2\u001b[39;49m\u001b[43m]\u001b[49m=\u001b[33m\"\u001b[39m\u001b[33ma\u001b[39m\u001b[33m\"\u001b[39m  \u001b[38;5;66;03m#Strings are immutable \u001b[39;00m\n",
      "\u001b[31mTypeError\u001b[39m: 'str' object does not support item assignment"
     ]
    }
   ],
   "source": [
    "str1[2]=\"a\"  #Strings are immutable "
   ]
  },
  {
   "cell_type": "code",
   "execution_count": 54,
   "id": "8492d220-d1ef-4ac1-b98a-a50b15ae6aa1",
   "metadata": {},
   "outputs": [
    {
     "data": {
      "text/plain": [
       "list"
      ]
     },
     "execution_count": 54,
     "metadata": {},
     "output_type": "execute_result"
    }
   ],
   "source": [
    "lis = [\"Laptop\", \"Python\", 19, 76.2, True]\n",
    "type(lis)"
   ]
  },
  {
   "cell_type": "code",
   "execution_count": 55,
   "id": "76376849-5e61-4640-ba98-4e9e209775c9",
   "metadata": {},
   "outputs": [
    {
     "data": {
      "text/plain": [
       "['code', 'Python', 19, 76.2, True]"
      ]
     },
     "execution_count": 55,
     "metadata": {},
     "output_type": "execute_result"
    }
   ],
   "source": [
    "lis[0] = \"code\"   #Lists are mutable \n",
    "lis"
   ]
  },
  {
   "cell_type": "markdown",
   "id": "090eb2d3-def6-458f-a6c0-8ee6976124ba",
   "metadata": {
    "jp-MarkdownHeadingCollapsed": true
   },
   "source": [
    "## Q7)How do tuples ensure data integrity in Python?"
   ]
  },
  {
   "cell_type": "markdown",
   "id": "9f30a7b0-0a33-415d-a84e-613c353c0b6c",
   "metadata": {},
   "source": [
    "#### ANS- Tuples are immutable which ensures that data remains consistent throughout the program. This is the main reason that ensure data integrity in Python .This immutability allows tuples to be used as keys in dictionaries and elements in sets, as they can be hashed. "
   ]
  },
  {
   "cell_type": "code",
   "execution_count": 58,
   "id": "355aecfe-ead1-4395-bc7d-33ae0ee91ff0",
   "metadata": {},
   "outputs": [
    {
     "data": {
      "text/plain": [
       "{(1, 2, 3): 'abc'}"
      ]
     },
     "execution_count": 58,
     "metadata": {},
     "output_type": "execute_result"
    }
   ],
   "source": [
    "#Ex 1:-\n",
    "d = {(1, 2, 3): \"abc\"} \n",
    "d"
   ]
  },
  {
   "cell_type": "code",
   "execution_count": 59,
   "id": "5e41d29a-32e8-41b9-9e7c-a9a397b2cff7",
   "metadata": {},
   "outputs": [
    {
     "data": {
      "text/plain": [
       "{(4, 5, 6), 1, 2, 3, 4, 5}"
      ]
     },
     "execution_count": 59,
     "metadata": {},
     "output_type": "execute_result"
    }
   ],
   "source": [
    "#Ex 2:-\n",
    "s= {1, 2, 3, 4, 5, (4, 5, 6)} \n",
    "s"
   ]
  },
  {
   "cell_type": "markdown",
   "id": "25371eba-2f48-41cd-89d4-72ce1017c57e",
   "metadata": {
    "jp-MarkdownHeadingCollapsed": true
   },
   "source": [
    "## Q8)What is a hash table, and how does it relate to dictionaries in Python?"
   ]
  },
  {
   "cell_type": "markdown",
   "id": "1ac8101f-e798-44c8-b17c-28ec14ffaaca",
   "metadata": {},
   "source": [
    "#### ANS- A hash table is a data structure that stores data by using key-value pairs which enables fast data accessing. It is related to dictionaries as dictionary is a data structure that stores data as key value pair and in this by using keys we can access values within the dictionary."
   ]
  },
  {
   "cell_type": "code",
   "execution_count": 57,
   "id": "7c130586-a76f-48a3-a53a-c018b7707407",
   "metadata": {},
   "outputs": [
    {
     "data": {
      "text/plain": [
       "'float'"
      ]
     },
     "execution_count": 57,
     "metadata": {},
     "output_type": "execute_result"
    }
   ],
   "source": [
    "#Ex:-\n",
    "d = {(1, 2, 3): \"abc\", 1.2: \"float\" } \n",
    "d[1.2]"
   ]
  },
  {
   "cell_type": "markdown",
   "id": "9d138128-52f6-46eb-8d01-8bc06ef116f9",
   "metadata": {
    "jp-MarkdownHeadingCollapsed": true
   },
   "source": [
    "## Q9)Can lists contain different data types in Python?"
   ]
  },
  {
   "cell_type": "markdown",
   "id": "aec747fb-f593-462f-a652-51d5a98cbbbe",
   "metadata": {},
   "source": [
    "#### ANS- Yes,lists can contain different data types in Python. Here is a examples:-"
   ]
  },
  {
   "cell_type": "code",
   "execution_count": 60,
   "id": "67051877-586e-4045-8e70-ac9020b02639",
   "metadata": {},
   "outputs": [
    {
     "data": {
      "text/plain": [
       "['Milk', 'Bread', 4, 27.59, True, (8+2j)]"
      ]
     },
     "execution_count": 60,
     "metadata": {},
     "output_type": "execute_result"
    }
   ],
   "source": [
    "store = [\"Milk\", \"Bread\", 4, 27.59, True, 8+2j]\n",
    "store"
   ]
  },
  {
   "cell_type": "code",
   "execution_count": 61,
   "id": "2656bdf7-5786-4d88-aa55-aab5c2ad8572",
   "metadata": {},
   "outputs": [
    {
     "data": {
      "text/plain": [
       "list"
      ]
     },
     "execution_count": 61,
     "metadata": {},
     "output_type": "execute_result"
    }
   ],
   "source": [
    "type(store)   #type"
   ]
  },
  {
   "cell_type": "markdown",
   "id": "402249e3-d5a2-421a-8b2c-c8aaa30dd561",
   "metadata": {
    "jp-MarkdownHeadingCollapsed": true
   },
   "source": [
    "## Q10)Explain why strings are immutable in Python?"
   ]
  },
  {
   "cell_type": "markdown",
   "id": "a0812ef7-dacc-42b4-98f5-ed6c2f863084",
   "metadata": {},
   "source": [
    "#### ANS- String is a sequence of character and characters are represents using numerical values. Each character is assigned a unique value. so, therefore strings are immutable in Python.Example:-"
   ]
  },
  {
   "cell_type": "code",
   "execution_count": 62,
   "id": "e0501385-73c1-4d9f-89aa-26011229c748",
   "metadata": {},
   "outputs": [
    {
     "data": {
      "text/plain": [
       "'Apple'"
      ]
     },
     "execution_count": 62,
     "metadata": {},
     "output_type": "execute_result"
    }
   ],
   "source": [
    "str1=\"Apple\"\n",
    "str1"
   ]
  },
  {
   "cell_type": "code",
   "execution_count": 63,
   "id": "daadb37f-2657-4078-8bf2-2e11e6f6ea14",
   "metadata": {},
   "outputs": [
    {
     "ename": "TypeError",
     "evalue": "'str' object does not support item assignment",
     "output_type": "error",
     "traceback": [
      "\u001b[31m---------------------------------------------------------------------------\u001b[39m",
      "\u001b[31mTypeError\u001b[39m                                 Traceback (most recent call last)",
      "\u001b[36mCell\u001b[39m\u001b[36m \u001b[39m\u001b[32mIn[63]\u001b[39m\u001b[32m, line 1\u001b[39m\n\u001b[32m----> \u001b[39m\u001b[32m1\u001b[39m \u001b[43mstr1\u001b[49m\u001b[43m[\u001b[49m\u001b[32;43m2\u001b[39;49m\u001b[43m]\u001b[49m=\u001b[33m\"\u001b[39m\u001b[33ma\u001b[39m\u001b[33m\"\u001b[39m \n",
      "\u001b[31mTypeError\u001b[39m: 'str' object does not support item assignment"
     ]
    }
   ],
   "source": [
    "str1[2]=\"a\" "
   ]
  },
  {
   "cell_type": "markdown",
   "id": "f83dc6b7-ef5e-45bd-bea2-7b28130fbbd8",
   "metadata": {
    "jp-MarkdownHeadingCollapsed": true
   },
   "source": [
    "## Q11)What advantages do dictionaries offer over lists for certain tasks?"
   ]
  },
  {
   "cell_type": "markdown",
   "id": "868c59f8-8eb2-40f8-b1c0-fdb4de5d9f54",
   "metadata": {},
   "source": [
    "#### ANS- The advantages do dictionaries offer over lists for certain taks are:-\n",
    "###### Fast Retrieval: enables significantly faster retrieval of values compared to lists where you need to iterate through elements.\n",
    "###### Data Mapping: ideal for representing relationships between data elements by using key-value pairs. \n",
    "###### Key-Value pairs: it stores data as key-value pairs,which makes it flexible and faster in performing certain tasks."
   ]
  },
  {
   "cell_type": "markdown",
   "id": "8c456da0-7247-457f-9e95-60134bb2b7fa",
   "metadata": {
    "jp-MarkdownHeadingCollapsed": true
   },
   "source": [
    "## Q12)Describe a scenario where using a tuple would be preferable over a list."
   ]
  },
  {
   "cell_type": "code",
   "execution_count": 65,
   "id": "15365ea4-f76e-4c6e-baf1-5139af8b120a",
   "metadata": {},
   "outputs": [
    {
     "data": {
      "text/plain": [
       "{(1, 2, 3): 'abc'}"
      ]
     },
     "execution_count": 65,
     "metadata": {},
     "output_type": "execute_result"
    }
   ],
   "source": [
    "ANS- #tuples as key of a dictionary, (#as tuples are immutable)\n",
    "d = {(1, 2, 3): \"abc\"}\n",
    "d"
   ]
  },
  {
   "cell_type": "code",
   "execution_count": 66,
   "id": "525856b2-573e-421a-9884-bf112b47c22b",
   "metadata": {},
   "outputs": [
    {
     "ename": "TypeError",
     "evalue": "unhashable type: 'list'",
     "output_type": "error",
     "traceback": [
      "\u001b[31m---------------------------------------------------------------------------\u001b[39m",
      "\u001b[31mTypeError\u001b[39m                                 Traceback (most recent call last)",
      "\u001b[36mCell\u001b[39m\u001b[36m \u001b[39m\u001b[32mIn[66]\u001b[39m\u001b[32m, line 1\u001b[39m\n\u001b[32m----> \u001b[39m\u001b[32m1\u001b[39m d = {[\u001b[32m1\u001b[39m, \u001b[32m2\u001b[39m, \u001b[32m3\u001b[39m]:\u001b[33m\"\u001b[39m\u001b[33mAjay\u001b[39m\u001b[33m\"\u001b[39m}\n\u001b[32m      2\u001b[39m d\n",
      "\u001b[31mTypeError\u001b[39m: unhashable type: 'list'"
     ]
    }
   ],
   "source": [
    "d = {[1, 2, 3]:\"Ajay\"}\n",
    "d"
   ]
  },
  {
   "cell_type": "markdown",
   "id": "6f7b0806-8546-483f-aba4-d1404925e59d",
   "metadata": {
    "jp-MarkdownHeadingCollapsed": true
   },
   "source": [
    "## Q13)How do sets handle duplicates values in Python?"
   ]
  },
  {
   "cell_type": "code",
   "execution_count": 69,
   "id": "ae847dfc-76ad-4108-bf9a-b1c97ccadff9",
   "metadata": {},
   "outputs": [],
   "source": [
    "#### ANS- Sets handle duplicates values in Python by removing the duplicates in the set.like following example:-  "
   ]
  },
  {
   "cell_type": "code",
   "execution_count": 68,
   "id": "c6ea2a8c-1fdf-4280-98f6-798f63fb90b4",
   "metadata": {},
   "outputs": [
    {
     "data": {
      "text/plain": [
       "{1, 2, 'Ajay', 'ajay'}"
      ]
     },
     "execution_count": 68,
     "metadata": {},
     "output_type": "execute_result"
    }
   ],
   "source": [
    "s = {1, 2, 1, 2, 2, \"Ajay\", \"Ajay\", \"Ajay\", \"ajay\", \"ajay\"}   #this remove the remove the duplicate 1,2 ,\"Ajay\" and \"ajay\".\n",
    "s                                                                                                           "
   ]
  },
  {
   "cell_type": "markdown",
   "id": "f9238b1c-c8d5-4108-a7b9-64d97fc05068",
   "metadata": {
    "jp-MarkdownHeadingCollapsed": true
   },
   "source": [
    "## Q14)How does the \"in\" keyword work differently for lists and dictionaries?"
   ]
  },
  {
   "cell_type": "code",
   "execution_count": 70,
   "id": "ec818a9b-9801-4342-a772-de3fe2608a76",
   "metadata": {},
   "outputs": [
    {
     "data": {
      "text/plain": [
       "['Apple', 'Orange', 4, 27.6, True, (4+5j)]"
      ]
     },
     "execution_count": 70,
     "metadata": {},
     "output_type": "execute_result"
    }
   ],
   "source": [
    "# \"in\" keyword works as membership\n",
    "lis1 = [\"Apple\", \"Orange\", 4, 27.6, True, 4+5j]\n",
    "lis1"
   ]
  },
  {
   "cell_type": "code",
   "execution_count": 71,
   "id": "aae07645-6e12-4dd9-8e00-56ec2a1a27a6",
   "metadata": {},
   "outputs": [
    {
     "data": {
      "text/plain": [
       "True"
      ]
     },
     "execution_count": 71,
     "metadata": {},
     "output_type": "execute_result"
    }
   ],
   "source": [
    "\"Apple\" in lis1"
   ]
  },
  {
   "cell_type": "code",
   "execution_count": 72,
   "id": "efcc54ef-8b95-4857-82a6-2729d03f5e9f",
   "metadata": {},
   "outputs": [
    {
     "data": {
      "text/plain": [
       "{'Arun': 80, 'Ajay': 95, 'Bijay': 100}"
      ]
     },
     "execution_count": 72,
     "metadata": {},
     "output_type": "execute_result"
    }
   ],
   "source": [
    "# \"in\" keyword works as using in dictionary comprehension method\n",
    "students = [\"Arun\", \"Ajay\", \"Bijay\"]\n",
    "marks = [80, 95, 100]\n",
    "{student:mark for student, mark in zip(students, marks)}"
   ]
  },
  {
   "cell_type": "markdown",
   "id": "6ceaf2aa-91bf-464b-a366-1eb161a2eb77",
   "metadata": {
    "jp-MarkdownHeadingCollapsed": true
   },
   "source": [
    "## Q15)Can you modify the elements of a tuple?Explain why or why not."
   ]
  },
  {
   "cell_type": "code",
   "execution_count": null,
   "id": "5c8d32ac-564f-43d4-8c0f-b4e96c489db3",
   "metadata": {},
   "outputs": [],
   "source": [
    "#### ANS- Yes, you cannot modify the elements of a tuple."
   ]
  },
  {
   "cell_type": "code",
   "execution_count": 73,
   "id": "11a00228-bada-4cf7-9d7d-602a9e875da5",
   "metadata": {},
   "outputs": [],
   "source": [
    "t = (\"skills\", \"Apple\", 4, 72.3, True, 4+8j)"
   ]
  },
  {
   "cell_type": "code",
   "execution_count": 74,
   "id": "388d610e-e557-4736-b224-4756897ed279",
   "metadata": {},
   "outputs": [
    {
     "data": {
      "text/plain": [
       "tuple"
      ]
     },
     "execution_count": 74,
     "metadata": {},
     "output_type": "execute_result"
    }
   ],
   "source": [
    "type(t)"
   ]
  },
  {
   "cell_type": "code",
   "execution_count": 75,
   "id": "3ff0bfd1-1000-435e-917a-e9534eb24e2b",
   "metadata": {},
   "outputs": [
    {
     "ename": "TypeError",
     "evalue": "'tuple' object does not support item assignment",
     "output_type": "error",
     "traceback": [
      "\u001b[31m---------------------------------------------------------------------------\u001b[39m",
      "\u001b[31mTypeError\u001b[39m                                 Traceback (most recent call last)",
      "\u001b[36mCell\u001b[39m\u001b[36m \u001b[39m\u001b[32mIn[75]\u001b[39m\u001b[32m, line 1\u001b[39m\n\u001b[32m----> \u001b[39m\u001b[32m1\u001b[39m \u001b[43mt\u001b[49m\u001b[43m[\u001b[49m\u001b[32;43m0\u001b[39;49m\u001b[43m]\u001b[49m = \u001b[32m100\u001b[39m\n",
      "\u001b[31mTypeError\u001b[39m: 'tuple' object does not support item assignment"
     ]
    }
   ],
   "source": [
    "t[0] = 100"
   ]
  },
  {
   "cell_type": "markdown",
   "id": "b2bda829-df6c-4a3e-a273-04b98d6f8a38",
   "metadata": {
    "jp-MarkdownHeadingCollapsed": true
   },
   "source": [
    "## Q16)What is a nested dictionary,and give an exmaple of its use case?"
   ]
  },
  {
   "cell_type": "code",
   "execution_count": null,
   "id": "d4310b0e-2850-4698-b149-abb78f73faee",
   "metadata": {},
   "outputs": [],
   "source": [
    "#### ANS- A nested dictionary is a dictionary within a dictionary.Example:"
   ]
  },
  {
   "cell_type": "code",
   "execution_count": 78,
   "id": "d721f28e-8b23-4f6a-bc90-cb3d6950d028",
   "metadata": {},
   "outputs": [],
   "source": [
    "employee_records = {\n",
    "    'E001': {'name': 'Ravi', 'department': 'Engineering', 'salary': 75000},\n",
    "    'E002': {'name': 'Rakesh', 'department': 'Marketing', 'salary': 65000},\n",
    "    'E003': {'name': 'Sara', 'department': 'Finance', 'salary': 80000}\n",
    "}"
   ]
  },
  {
   "cell_type": "code",
   "execution_count": 77,
   "id": "00b71a35-72ca-4fb1-9bc7-119193341580",
   "metadata": {},
   "outputs": [
    {
     "data": {
      "text/plain": [
       "dict"
      ]
     },
     "execution_count": 77,
     "metadata": {},
     "output_type": "execute_result"
    }
   ],
   "source": [
    "type(employee_records)"
   ]
  },
  {
   "cell_type": "markdown",
   "id": "3291cf75-da33-4b07-80e1-68cd4ae6d172",
   "metadata": {
    "jp-MarkdownHeadingCollapsed": true
   },
   "source": [
    "## Q17)Describe the time complexity of accessing elements in a dictionary."
   ]
  },
  {
   "cell_type": "markdown",
   "id": "06e9f69d-d8d3-45bd-b816-70d0011cce0c",
   "metadata": {},
   "source": [
    "#### ANS-"
   ]
  },
  {
   "cell_type": "code",
   "execution_count": 81,
   "id": "25895a71-9e17-47c5-96da-72d9992bfe03",
   "metadata": {},
   "outputs": [
    {
     "name": "stdout",
     "output_type": "stream",
     "text": [
      "('Sara', 80)\n",
      "('Gita', 95)\n",
      "('Tina', 100)\n"
     ]
    }
   ],
   "source": [
    "# earlier dictionary comprehension\n",
    "\n",
    "#zip function\n",
    "students = [\"Sara\", \"Gita\", \"Tina\"]\n",
    "marks = [80, 95, 100]\n",
    "\n",
    "for i in zip(students, marks):\n",
    "    print(i)"
   ]
  },
  {
   "cell_type": "code",
   "execution_count": 82,
   "id": "4345f665-9579-40e6-b0eb-2231e21f9a6f",
   "metadata": {},
   "outputs": [
    {
     "data": {
      "text/plain": [
       "{'Sara': 80, 'Gita': 95, 'Tina': 100}"
      ]
     },
     "execution_count": 82,
     "metadata": {},
     "output_type": "execute_result"
    }
   ],
   "source": [
    "#recent updated   using dictionary comprehension method\n",
    "students = [\"Sara\", \"Gita\", \"Tina\"]\n",
    "marks = [80, 95, 100]\n",
    "{student:mark for student, mark in zip(students, marks)}"
   ]
  },
  {
   "cell_type": "markdown",
   "id": "4ee8e2e4-077d-4ef5-977d-17c8b71a5a0e",
   "metadata": {
    "jp-MarkdownHeadingCollapsed": true
   },
   "source": [
    "## Q18)In what situations are lists preferred over dictionaries?"
   ]
  },
  {
   "cell_type": "markdown",
   "id": "8d00898c-3a88-4e5e-b523-3710358e22d1",
   "metadata": {},
   "source": [
    "#### ANS- For situations like for ordered collections and sequence operations,such as mainitaining a stack or queue. In these type of cases lists preferred over dictionaries."
   ]
  },
  {
   "cell_type": "code",
   "execution_count": 85,
   "id": "f727fc75-28ee-43ed-8b13-c2a347391bd0",
   "metadata": {},
   "outputs": [],
   "source": [
    "#stack\n",
    "#LIFO- last in first out\n",
    "stack_of_tiles = []\n",
    "stack_of_tiles.append(\"tile1\")\n",
    "stack_of_tiles.append(\"tile2\")\n",
    "stack_of_tiles.append(\"tile3\")\n",
    "stack_of_tiles.append(\"tile4\")"
   ]
  },
  {
   "cell_type": "code",
   "execution_count": 86,
   "id": "0ba32a31-ccb2-4014-a394-e98b55fbb994",
   "metadata": {},
   "outputs": [
    {
     "data": {
      "text/plain": [
       "['tile1', 'tile2', 'tile3', 'tile4']"
      ]
     },
     "execution_count": 86,
     "metadata": {},
     "output_type": "execute_result"
    }
   ],
   "source": [
    "stack_of_tiles"
   ]
  },
  {
   "cell_type": "code",
   "execution_count": 89,
   "id": "d3ffe701-1bd1-4467-bc75-4ac5b8b3276d",
   "metadata": {},
   "outputs": [
    {
     "data": {
      "text/plain": [
       "'tile4'"
      ]
     },
     "execution_count": 89,
     "metadata": {},
     "output_type": "execute_result"
    }
   ],
   "source": [
    "stack_of_tiles.pop()"
   ]
  },
  {
   "cell_type": "code",
   "execution_count": 94,
   "id": "3b6dbd74-688d-44f2-b021-ea7a81241aca",
   "metadata": {},
   "outputs": [],
   "source": [
    "#Queue\n",
    "#FIFO- first in first out\n",
    "from collections import deque   \n",
    "check_out = deque()\n",
    "check_out.append(\"cus1\")\n",
    "check_out.append(\"cus2\")\n",
    "check_out.append(\"cus3\")\n",
    "check_out.append(\"cus4\")\n",
    "check_out.append(\"cus5\")"
   ]
  },
  {
   "cell_type": "code",
   "execution_count": 95,
   "id": "c3a8bba2-ab20-43b9-a303-9545e94b7571",
   "metadata": {},
   "outputs": [
    {
     "data": {
      "text/plain": [
       "deque(['cus1', 'cus2', 'cus3', 'cus4', 'cus5'])"
      ]
     },
     "execution_count": 95,
     "metadata": {},
     "output_type": "execute_result"
    }
   ],
   "source": [
    "check_out"
   ]
  },
  {
   "cell_type": "code",
   "execution_count": 96,
   "id": "e50a9cd0-8688-4e0f-8897-b51b6f433334",
   "metadata": {},
   "outputs": [
    {
     "name": "stdout",
     "output_type": "stream",
     "text": [
      "serving cus1\n",
      "serving cus2\n",
      "serving cus3\n",
      "serving cus4\n",
      "serving cus5\n"
     ]
    }
   ],
   "source": [
    "while check_out:\n",
    "    customer = check_out.popleft()\n",
    "    print(\"serving\", customer)"
   ]
  },
  {
   "cell_type": "markdown",
   "id": "add93636-f5a2-4dc3-8091-d528c6b5bf7f",
   "metadata": {
    "jp-MarkdownHeadingCollapsed": true
   },
   "source": [
    "## Q19)Why are dictionaries considered unordered,and how does that affect data retrieval?"
   ]
  },
  {
   "cell_type": "markdown",
   "id": "5706778c-d3e5-430b-af6a-958c4d50c5d7",
   "metadata": {},
   "source": [
    "#### ANS- Dictionaries are considered unordered as dictionary is a data structure that stores data as key value pair.Before Python 3.7, dictionaries did not guarantee retain the order of insertion.Even if you insert keys in a specific order ,iterating over them  might not return them in that order.This is because it follows hash tables structure,where items are stored based on their keys and not their insertion order. "
   ]
  },
  {
   "cell_type": "code",
   "execution_count": 97,
   "id": "04318272-b593-4965-bb83-ab6e457ca7ea",
   "metadata": {},
   "outputs": [
    {
     "data": {
      "text/plain": [
       "{'a': 'ram', 'b': 'table', 'c': 'cat'}"
      ]
     },
     "execution_count": 97,
     "metadata": {},
     "output_type": "execute_result"
    }
   ],
   "source": [
    "d = {'a': \"ram\",'b': \"table\" ,'c': \"cat\"}\n",
    "d"
   ]
  },
  {
   "cell_type": "code",
   "execution_count": 98,
   "id": "b3dacb77-39ad-4084-85da-2a11614e81a7",
   "metadata": {},
   "outputs": [
    {
     "data": {
      "text/plain": [
       "'table'"
      ]
     },
     "execution_count": 98,
     "metadata": {},
     "output_type": "execute_result"
    }
   ],
   "source": [
    "d['b']"
   ]
  },
  {
   "cell_type": "code",
   "execution_count": null,
   "id": "8828de06-a8c0-4bfb-b448-fc1694a46c79",
   "metadata": {},
   "outputs": [],
   "source": [
    "### but before 3.7 .for key in d: might give keys in any order like'c','a','b'."
   ]
  },
  {
   "cell_type": "markdown",
   "id": "f16fcb3e-8975-4202-b4b1-929e35e468c4",
   "metadata": {
    "jp-MarkdownHeadingCollapsed": true
   },
   "source": [
    "## Q20)Explain the difference between a list and a dictionary in terms of data retrieval."
   ]
  },
  {
   "cell_type": "markdown",
   "id": "e3ec069d-7ea6-4b0e-b812-a0a1321df653",
   "metadata": {},
   "source": [
    "#### ANS- The difference between a list and a dictionary in terms of data retrieval are:- List are ordered collection of items where as dictionary are ordered collection of key-value pair.Elements from list is accessed using their index,while the elements of dictionary is accessed using keys. List is created with \"[]\",where as dictionary is created with \"{}\".Items in the list are mutable whereas in dictionaries values are mutable but not the keys,as keys are unique."
   ]
  },
  {
   "cell_type": "markdown",
   "id": "0b27311d-e706-4146-8e3f-82693a90b640",
   "metadata": {},
   "source": [
    "##  PRACTIAL QUESTIONS"
   ]
  },
  {
   "cell_type": "markdown",
   "id": "58467f44-97d6-4e3c-b0b2-533978ca107c",
   "metadata": {
    "jp-MarkdownHeadingCollapsed": true
   },
   "source": [
    "### Q1)Write a code to create a string with your name and print it."
   ]
  },
  {
   "cell_type": "code",
   "execution_count": 134,
   "id": "3df056e9-7842-4b45-a649-bb047121d0ab",
   "metadata": {},
   "outputs": [
    {
     "data": {
      "text/plain": [
       "'My name is Himadri Tanaya Sahu'"
      ]
     },
     "execution_count": 134,
     "metadata": {},
     "output_type": "execute_result"
    }
   ],
   "source": [
    "s=\"My name is Himadri Tanaya Sahu\"\n",
    "s"
   ]
  },
  {
   "cell_type": "code",
   "execution_count": 135,
   "id": "08ae6512-8386-4e8c-a136-4aef6b585dd7",
   "metadata": {},
   "outputs": [
    {
     "data": {
      "text/plain": [
       "str"
      ]
     },
     "execution_count": 135,
     "metadata": {},
     "output_type": "execute_result"
    }
   ],
   "source": [
    "type(s)"
   ]
  },
  {
   "cell_type": "markdown",
   "id": "b30e5d67-eae9-43e9-b2e0-97041c119557",
   "metadata": {
    "jp-MarkdownHeadingCollapsed": true
   },
   "source": [
    "### Q2)Write a code to find the length of the string \"Hello World\". "
   ]
  },
  {
   "cell_type": "code",
   "execution_count": 100,
   "id": "a1532038-3318-46b0-9ad4-d335e6967169",
   "metadata": {},
   "outputs": [
    {
     "data": {
      "text/plain": [
       "11"
      ]
     },
     "execution_count": 100,
     "metadata": {},
     "output_type": "execute_result"
    }
   ],
   "source": [
    "s1=\"Hello World\"\n",
    "len(s1)"
   ]
  },
  {
   "cell_type": "markdown",
   "id": "fef85919-b89e-4d08-8722-0e79b04d29fa",
   "metadata": {
    "jp-MarkdownHeadingCollapsed": true
   },
   "source": [
    "### Q3)Write a code to slice the first 3 characters from the string \"Python Programming\"."
   ]
  },
  {
   "cell_type": "code",
   "execution_count": 101,
   "id": "3c5159bc-68a8-4c6c-b381-768dd6cbbbdb",
   "metadata": {},
   "outputs": [
    {
     "data": {
      "text/plain": [
       "'Pyt'"
      ]
     },
     "execution_count": 101,
     "metadata": {},
     "output_type": "execute_result"
    }
   ],
   "source": [
    "s2=\"Python Programming\"\n",
    "s2[0:3]"
   ]
  },
  {
   "cell_type": "markdown",
   "id": "037e2fc3-8aa9-44a0-bbec-a0364bea83b4",
   "metadata": {
    "jp-MarkdownHeadingCollapsed": true
   },
   "source": [
    "### Q4)Write a code to convert the string \"hello\" to uppercase."
   ]
  },
  {
   "cell_type": "code",
   "execution_count": 104,
   "id": "adbfa4de-9696-4cf3-beb3-2227d1b5a495",
   "metadata": {},
   "outputs": [
    {
     "data": {
      "text/plain": [
       "'HELLO'"
      ]
     },
     "execution_count": 104,
     "metadata": {},
     "output_type": "execute_result"
    }
   ],
   "source": [
    "s3=\"hello\"\n",
    "s3.upper()"
   ]
  },
  {
   "cell_type": "markdown",
   "id": "3ffb07e6-b4ea-4ebd-ad32-5f1de6692ec7",
   "metadata": {
    "jp-MarkdownHeadingCollapsed": true
   },
   "source": [
    "### Q5)Write a code to replace the word \"apple\" with \"orange\" in the string \"I like apple\"."
   ]
  },
  {
   "cell_type": "markdown",
   "id": "e3ba1662-a586-457d-96e8-4918ac1f5b08",
   "metadata": {},
   "source": [
    "s4=\"I like apple\"\n",
    "s4.replace(\"apple\",\"orange\")"
   ]
  },
  {
   "cell_type": "markdown",
   "id": "73a78764-d300-47ae-827a-be3eeea814a9",
   "metadata": {
    "jp-MarkdownHeadingCollapsed": true
   },
   "source": [
    "### Q6)Write a code to create a list with numbers 1 to 5 and print it."
   ]
  },
  {
   "cell_type": "code",
   "execution_count": 132,
   "id": "059284d2-6690-42c9-a6a5-494a8b83d9d9",
   "metadata": {},
   "outputs": [
    {
     "data": {
      "text/plain": [
       "[1, 2, 3, 4, 5]"
      ]
     },
     "execution_count": 132,
     "metadata": {},
     "output_type": "execute_result"
    }
   ],
   "source": [
    "l=[1,2,3,4,5]\n",
    "l"
   ]
  },
  {
   "cell_type": "code",
   "execution_count": 133,
   "id": "20c0a5a9-4985-499e-9dc3-e261567a1dbc",
   "metadata": {},
   "outputs": [
    {
     "data": {
      "text/plain": [
       "list"
      ]
     },
     "execution_count": 133,
     "metadata": {},
     "output_type": "execute_result"
    }
   ],
   "source": [
    "type(l)"
   ]
  },
  {
   "cell_type": "markdown",
   "id": "9ddddf3b-e92c-4a9f-9d5e-fbeee6e89d67",
   "metadata": {
    "jp-MarkdownHeadingCollapsed": true
   },
   "source": [
    "### Q7)Write a code to append the number 10 to the list [1,2,3,4]."
   ]
  },
  {
   "cell_type": "code",
   "execution_count": 110,
   "id": "b000871c-67ac-4cef-a360-b8de0ababc55",
   "metadata": {},
   "outputs": [],
   "source": [
    "L2=[1,2,3,4]\n",
    "L2.append(10)"
   ]
  },
  {
   "cell_type": "code",
   "execution_count": 111,
   "id": "06ed1536-6b32-4ece-a145-0d9a3dd118da",
   "metadata": {},
   "outputs": [
    {
     "data": {
      "text/plain": [
       "[1, 2, 3, 4, 10]"
      ]
     },
     "execution_count": 111,
     "metadata": {},
     "output_type": "execute_result"
    }
   ],
   "source": [
    "L2"
   ]
  },
  {
   "cell_type": "markdown",
   "id": "76e2a183-2a27-4f27-be59-593dc8b8822b",
   "metadata": {
    "jp-MarkdownHeadingCollapsed": true
   },
   "source": [
    "### Q8)Write a code to remove the number 3 from the list [1,2,3,4,5]."
   ]
  },
  {
   "cell_type": "code",
   "execution_count": 112,
   "id": "729c3a34-f0c4-4470-b30a-31a7dbda7109",
   "metadata": {},
   "outputs": [],
   "source": [
    "l3=[1,2,3,4,5]\n",
    "l3.remove(3)"
   ]
  },
  {
   "cell_type": "code",
   "execution_count": 113,
   "id": "ad3aca88-8373-4164-93c0-ed5bcc243c21",
   "metadata": {},
   "outputs": [
    {
     "data": {
      "text/plain": [
       "[1, 2, 4, 5]"
      ]
     },
     "execution_count": 113,
     "metadata": {},
     "output_type": "execute_result"
    }
   ],
   "source": [
    "l3"
   ]
  },
  {
   "cell_type": "markdown",
   "id": "9b3daffe-a79d-4602-ba1a-e7bcc1724de6",
   "metadata": {
    "jp-MarkdownHeadingCollapsed": true
   },
   "source": [
    "### Q9)Write a code to access the second element in the list ['a','b','c','d']."
   ]
  },
  {
   "cell_type": "code",
   "execution_count": 114,
   "id": "b23f0ca6-9e4e-4e3c-826f-26749e90627a",
   "metadata": {},
   "outputs": [
    {
     "data": {
      "text/plain": [
       "'b'"
      ]
     },
     "execution_count": 114,
     "metadata": {},
     "output_type": "execute_result"
    }
   ],
   "source": [
    "l4=['a','b','c','d']\n",
    "l4[1]"
   ]
  },
  {
   "cell_type": "markdown",
   "id": "8dbb245e-7e7b-4b8e-aa3f-52aa6bcb6bc4",
   "metadata": {
    "jp-MarkdownHeadingCollapsed": true
   },
   "source": [
    "### Q10)Write a code to reverse the list [10,20,30,40,50]."
   ]
  },
  {
   "cell_type": "code",
   "execution_count": 115,
   "id": "14c3cdd3-3031-4612-b9bf-ccfd09a8f3d4",
   "metadata": {},
   "outputs": [
    {
     "data": {
      "text/plain": [
       "[50, 40, 30, 20, 10]"
      ]
     },
     "execution_count": 115,
     "metadata": {},
     "output_type": "execute_result"
    }
   ],
   "source": [
    "l5=[10,20,30,40,50]\n",
    "l5[::-1]"
   ]
  },
  {
   "cell_type": "markdown",
   "id": "69eaa3a4-9bc9-4522-afe3-61431034e426",
   "metadata": {
    "jp-MarkdownHeadingCollapsed": true
   },
   "source": [
    "### Q11)Write a code to create a tuple with the element 100,200,300 and print it."
   ]
  },
  {
   "cell_type": "code",
   "execution_count": 130,
   "id": "20263a1f-9f10-430b-a2cf-25821fecd08b",
   "metadata": {},
   "outputs": [
    {
     "data": {
      "text/plain": [
       "(100, 200, 300)"
      ]
     },
     "execution_count": 130,
     "metadata": {},
     "output_type": "execute_result"
    }
   ],
   "source": [
    "t=(100,200,300)\n",
    "t"
   ]
  },
  {
   "cell_type": "code",
   "execution_count": 131,
   "id": "541747ad-a804-4b53-adb6-8c5138568f12",
   "metadata": {},
   "outputs": [
    {
     "data": {
      "text/plain": [
       "tuple"
      ]
     },
     "execution_count": 131,
     "metadata": {},
     "output_type": "execute_result"
    }
   ],
   "source": [
    "type(t)"
   ]
  },
  {
   "cell_type": "markdown",
   "id": "8913b95c-6a9c-481b-810e-6f417e9b7053",
   "metadata": {
    "jp-MarkdownHeadingCollapsed": true
   },
   "source": [
    "### Q12)Write a code to access the second-to-last element of the tuple('red','green','blue','yellow')."
   ]
  },
  {
   "cell_type": "code",
   "execution_count": 122,
   "id": "836740aa-6d30-4652-a531-371b1bb11037",
   "metadata": {},
   "outputs": [
    {
     "data": {
      "text/plain": [
       "'blue'"
      ]
     },
     "execution_count": 122,
     "metadata": {},
     "output_type": "execute_result"
    }
   ],
   "source": [
    "t1=('red','green','blue','yellow')\n",
    "t1[-2]"
   ]
  },
  {
   "cell_type": "markdown",
   "id": "247c22c6-8fbd-4a8c-948c-29eb833a34ee",
   "metadata": {
    "jp-MarkdownHeadingCollapsed": true
   },
   "source": [
    "### Q13)Write a code to find the minimum number in the tuple (10,20,5,15)."
   ]
  },
  {
   "cell_type": "code",
   "execution_count": 126,
   "id": "0eb28526-efda-4245-8b6f-5218c991a204",
   "metadata": {},
   "outputs": [
    {
     "data": {
      "text/plain": [
       "5"
      ]
     },
     "execution_count": 126,
     "metadata": {},
     "output_type": "execute_result"
    }
   ],
   "source": [
    "t2= (10,20,5,15)\n",
    "min(t2)"
   ]
  },
  {
   "cell_type": "markdown",
   "id": "f646c4a7-905c-4c6f-93ac-08398af4da3c",
   "metadata": {
    "jp-MarkdownHeadingCollapsed": true
   },
   "source": [
    "### Q14)Write a code to find the index of the element \"cat\" in the tuple ('dog','cat','rabbit')."
   ]
  },
  {
   "cell_type": "code",
   "execution_count": 127,
   "id": "d3d19307-a90f-4e7c-8f45-58610f03cd24",
   "metadata": {},
   "outputs": [
    {
     "data": {
      "text/plain": [
       "1"
      ]
     },
     "execution_count": 127,
     "metadata": {},
     "output_type": "execute_result"
    }
   ],
   "source": [
    "t3=('dog','cat','rabbit')\n",
    "t3.index(\"cat\")"
   ]
  },
  {
   "cell_type": "markdown",
   "id": "a180ea2d-601d-4213-a64e-8dd3a8e77f1a",
   "metadata": {
    "jp-MarkdownHeadingCollapsed": true
   },
   "source": [
    "### Q15)Write a code to create a tuple containing three different fruits and check if \"kiwi\" is in it."
   ]
  },
  {
   "cell_type": "code",
   "execution_count": 136,
   "id": "77155c28-345f-46fc-b214-9876d122a24b",
   "metadata": {},
   "outputs": [
    {
     "data": {
      "text/plain": [
       "False"
      ]
     },
     "execution_count": 136,
     "metadata": {},
     "output_type": "execute_result"
    }
   ],
   "source": [
    "t5=(\"apple\",\"mango\",\"banana\")\n",
    "\"kiwi\" in t5"
   ]
  },
  {
   "cell_type": "markdown",
   "id": "c14b0149-a4e8-43f9-bf81-df0d4a8b6a20",
   "metadata": {
    "jp-MarkdownHeadingCollapsed": true
   },
   "source": [
    "### Q16)Write a code to create a set with the elements 'a','b','c' and print it."
   ]
  },
  {
   "cell_type": "code",
   "execution_count": 128,
   "id": "ddb8e593-f371-43b8-b755-22c1cf0a0f52",
   "metadata": {},
   "outputs": [
    {
     "data": {
      "text/plain": [
       "{'a', 'b', 'c'}"
      ]
     },
     "execution_count": 128,
     "metadata": {},
     "output_type": "execute_result"
    }
   ],
   "source": [
    "s={'a','b','c'}\n",
    "s"
   ]
  },
  {
   "cell_type": "code",
   "execution_count": 129,
   "id": "d02771ea-88ef-4f92-bee3-dbac261eca47",
   "metadata": {},
   "outputs": [
    {
     "data": {
      "text/plain": [
       "set"
      ]
     },
     "execution_count": 129,
     "metadata": {},
     "output_type": "execute_result"
    }
   ],
   "source": [
    "type(s)"
   ]
  },
  {
   "cell_type": "markdown",
   "id": "68993d24-c801-475c-ae6a-e9cd735f5581",
   "metadata": {
    "jp-MarkdownHeadingCollapsed": true
   },
   "source": [
    "### Q17)Write a code to clear all elements from the set {1,2,3,4,5}."
   ]
  },
  {
   "cell_type": "code",
   "execution_count": 137,
   "id": "efb4197f-5bc1-41db-aef3-916f99974895",
   "metadata": {},
   "outputs": [],
   "source": [
    "s6={1,2,3,4,5}\n",
    "s6.clear()"
   ]
  },
  {
   "cell_type": "code",
   "execution_count": 138,
   "id": "97b40468-2bb9-4f1a-8e58-57b929812bac",
   "metadata": {},
   "outputs": [
    {
     "data": {
      "text/plain": [
       "set()"
      ]
     },
     "execution_count": 138,
     "metadata": {},
     "output_type": "execute_result"
    }
   ],
   "source": [
    "s6"
   ]
  },
  {
   "cell_type": "markdown",
   "id": "35383695-9b48-43f0-8f27-a3e6c82c8b54",
   "metadata": {
    "jp-MarkdownHeadingCollapsed": true
   },
   "source": [
    "### Q18)Write a code to remove the element 4 from the set {1,2,3,4}."
   ]
  },
  {
   "cell_type": "code",
   "execution_count": 139,
   "id": "ac3da3e7-a5a0-48c0-98d6-d73a1011f72d",
   "metadata": {},
   "outputs": [],
   "source": [
    "s7={1,2,3,4}\n",
    "s7.remove(4)"
   ]
  },
  {
   "cell_type": "code",
   "execution_count": 140,
   "id": "de5b4892-b4b1-465e-aca1-fcd607fc7562",
   "metadata": {},
   "outputs": [
    {
     "data": {
      "text/plain": [
       "{1, 2, 3}"
      ]
     },
     "execution_count": 140,
     "metadata": {},
     "output_type": "execute_result"
    }
   ],
   "source": [
    "s7"
   ]
  },
  {
   "cell_type": "markdown",
   "id": "e4b2f57d-3ddd-49dd-8d15-cf9e052c9c6f",
   "metadata": {
    "jp-MarkdownHeadingCollapsed": true
   },
   "source": [
    "### Q19)Write a code to find the union of two sets {1,2,3} and {2,3,4}"
   ]
  },
  {
   "cell_type": "code",
   "execution_count": 142,
   "id": "0a16d5c5-8569-4783-ac84-71d96d4241e8",
   "metadata": {},
   "outputs": [],
   "source": [
    "s8={1,2,3}"
   ]
  },
  {
   "cell_type": "code",
   "execution_count": 143,
   "id": "c1708578-842e-4e54-8429-08748cc38f75",
   "metadata": {},
   "outputs": [],
   "source": [
    "s9={2,3,4}"
   ]
  },
  {
   "cell_type": "code",
   "execution_count": 144,
   "id": "af3c636d-b28f-4c3a-a8eb-152a378c2865",
   "metadata": {},
   "outputs": [
    {
     "data": {
      "text/plain": [
       "{1, 2, 3, 4}"
      ]
     },
     "execution_count": 144,
     "metadata": {},
     "output_type": "execute_result"
    }
   ],
   "source": [
    "s8|s9"
   ]
  },
  {
   "cell_type": "markdown",
   "id": "fe889f5e-61d9-41d2-a8c0-e91910f7977b",
   "metadata": {
    "jp-MarkdownHeadingCollapsed": true
   },
   "source": [
    "### Q20)Write a code to find the intersection of two sets {1,2,3} and {2,3,4}."
   ]
  },
  {
   "cell_type": "code",
   "execution_count": 145,
   "id": "5f183290-0896-4c1d-9306-b989bdead9b4",
   "metadata": {},
   "outputs": [],
   "source": [
    "s1={1,2,3}"
   ]
  },
  {
   "cell_type": "code",
   "execution_count": 146,
   "id": "60362147-a51b-4d03-b899-7d33cab398a4",
   "metadata": {},
   "outputs": [],
   "source": [
    "s2={2,3,4}"
   ]
  },
  {
   "cell_type": "code",
   "execution_count": 147,
   "id": "62d0ad18-484c-4528-8831-ed7ceef6d5d5",
   "metadata": {},
   "outputs": [
    {
     "data": {
      "text/plain": [
       "{2, 3}"
      ]
     },
     "execution_count": 147,
     "metadata": {},
     "output_type": "execute_result"
    }
   ],
   "source": [
    "s1 & s2"
   ]
  },
  {
   "cell_type": "markdown",
   "id": "8e08489d-189b-4855-a1d0-bde43a9151da",
   "metadata": {
    "jp-MarkdownHeadingCollapsed": true
   },
   "source": [
    "### Q21)Write a code to create a dictionary with the keys \"name\",\"age\" and \"city\", and print it."
   ]
  },
  {
   "cell_type": "code",
   "execution_count": 148,
   "id": "ebb33caa-571a-479b-b4ca-f7e5064319ee",
   "metadata": {},
   "outputs": [
    {
     "data": {
      "text/plain": [
       "{'name': 'Rani', 'age': 20, 'city': 'BBSR'}"
      ]
     },
     "execution_count": 148,
     "metadata": {},
     "output_type": "execute_result"
    }
   ],
   "source": [
    "d={\"name\":\"Rani\",\"age\":20,\"city\": \"BBSR\"}\n",
    "d"
   ]
  },
  {
   "cell_type": "code",
   "execution_count": 149,
   "id": "d47d453e-3365-417d-838e-b149dde77de3",
   "metadata": {},
   "outputs": [
    {
     "data": {
      "text/plain": [
       "dict_keys(['name', 'age', 'city'])"
      ]
     },
     "execution_count": 149,
     "metadata": {},
     "output_type": "execute_result"
    }
   ],
   "source": [
    "d.keys()"
   ]
  },
  {
   "cell_type": "markdown",
   "id": "8d34c347-87ea-4227-a81a-28972694a92c",
   "metadata": {
    "jp-MarkdownHeadingCollapsed": true
   },
   "source": [
    "### Q22)Write a code to add a new key-value pair 'country':'USA' to the dictionary {'name':'Bob','age':22,'city':'New York'}."
   ]
  },
  {
   "cell_type": "code",
   "execution_count": 151,
   "id": "fe643afa-7500-4a79-9f44-eed997981b9c",
   "metadata": {},
   "outputs": [
    {
     "data": {
      "text/plain": [
       "{'name': 'Bob', 'age': 22, 'city': 'New York'}"
      ]
     },
     "execution_count": 151,
     "metadata": {},
     "output_type": "execute_result"
    }
   ],
   "source": [
    "d1={'name':'Bob','age':22,'city':'New York'}\n",
    "d1"
   ]
  },
  {
   "cell_type": "code",
   "execution_count": 152,
   "id": "fac9c1eb-e675-4251-8f30-31a54294c3c0",
   "metadata": {},
   "outputs": [
    {
     "data": {
      "text/plain": [
       "{'name': 'Bob', 'age': 22, 'city': 'New York', 'country': 'USA'}"
      ]
     },
     "execution_count": 152,
     "metadata": {},
     "output_type": "execute_result"
    }
   ],
   "source": [
    "d1['country']=\"USA\"\n",
    "d1"
   ]
  },
  {
   "cell_type": "markdown",
   "id": "bb633e80-2e05-4b00-8718-f3dcc5eb9afe",
   "metadata": {
    "jp-MarkdownHeadingCollapsed": true
   },
   "source": [
    "### Q23)Write a code to access the value associated with the key \"name\" in the dictionary {'name':'Alice','age':30}."
   ]
  },
  {
   "cell_type": "code",
   "execution_count": 154,
   "id": "ed4c4b64-789e-4105-a879-a054da8926db",
   "metadata": {},
   "outputs": [],
   "source": [
    "d3={'name':'Alice','age':30}"
   ]
  },
  {
   "cell_type": "code",
   "execution_count": 155,
   "id": "6b9e3acd-156d-46d1-85a5-7f6f34b2914c",
   "metadata": {},
   "outputs": [
    {
     "data": {
      "text/plain": [
       "'Alice'"
      ]
     },
     "execution_count": 155,
     "metadata": {},
     "output_type": "execute_result"
    }
   ],
   "source": [
    "d3[\"name\"]"
   ]
  },
  {
   "cell_type": "markdown",
   "id": "f7d8f6cd-3e55-49e5-a40c-6e9ee08dfee3",
   "metadata": {
    "jp-MarkdownHeadingCollapsed": true
   },
   "source": [
    "### Q24)Write a code to remove the key \"age\" from the dictionary {'name':'Bob','age':22,'city':'New York'}."
   ]
  },
  {
   "cell_type": "code",
   "execution_count": 161,
   "id": "d0d205ed-ce5f-4e2c-b667-e7a786b943f7",
   "metadata": {},
   "outputs": [],
   "source": [
    "d4={'name':'Bob','age':22,'city':'New York'}"
   ]
  },
  {
   "cell_type": "code",
   "execution_count": 162,
   "id": "cc14f9a9-0c7e-4acb-a364-a8fc2ed344cf",
   "metadata": {},
   "outputs": [
    {
     "data": {
      "text/plain": [
       "22"
      ]
     },
     "execution_count": 162,
     "metadata": {},
     "output_type": "execute_result"
    }
   ],
   "source": [
    "d4.pop(\"age\")"
   ]
  },
  {
   "cell_type": "code",
   "execution_count": 163,
   "id": "87d709c8-1211-4788-b1ee-690f8c5fff6a",
   "metadata": {},
   "outputs": [
    {
     "data": {
      "text/plain": [
       "{'name': 'Bob', 'city': 'New York'}"
      ]
     },
     "execution_count": 163,
     "metadata": {},
     "output_type": "execute_result"
    }
   ],
   "source": [
    "d4"
   ]
  },
  {
   "cell_type": "markdown",
   "id": "89aba256-a1a2-4a7f-9d47-253ab78ffb51",
   "metadata": {
    "jp-MarkdownHeadingCollapsed": true
   },
   "source": [
    "### Q25)Write a code to check if the key \"city\" exists in the dictionary {'name':'Alice','city':'Pairs'}"
   ]
  },
  {
   "cell_type": "code",
   "execution_count": 164,
   "id": "a3c456ff-2400-4f3a-b4b2-cd22078b3bce",
   "metadata": {},
   "outputs": [
    {
     "data": {
      "text/plain": [
       "True"
      ]
     },
     "execution_count": 164,
     "metadata": {},
     "output_type": "execute_result"
    }
   ],
   "source": [
    "d4={'name':'Alice','city':'Pairs'}\n",
    "\"city\" in d4"
   ]
  },
  {
   "cell_type": "markdown",
   "id": "1e41235d-82e1-4a10-a274-84fd56ece166",
   "metadata": {
    "jp-MarkdownHeadingCollapsed": true
   },
   "source": [
    "### Q26)Write a code to create a list,a tuple,and a dictionary,and print them all."
   ]
  },
  {
   "cell_type": "code",
   "execution_count": 168,
   "id": "d52238af-95cf-4668-869a-1cbb36da26de",
   "metadata": {},
   "outputs": [
    {
     "name": "stdout",
     "output_type": "stream",
     "text": [
      "['David', 40, 'spain'] ('David', 40, 'spain') {'name': 'Alice', 'city': 'Pairs'}\n"
     ]
    }
   ],
   "source": [
    "l=[\"David\",40,\"spain\"]\n",
    "t=(\"David\",40,\"spain\")\n",
    "d={'name':'Alice','city':'Pairs'}\n",
    "print(l,t,d)"
   ]
  },
  {
   "cell_type": "markdown",
   "id": "d55da790-4bf9-4c07-a19f-76c7eba0f0d2",
   "metadata": {
    "jp-MarkdownHeadingCollapsed": true
   },
   "source": [
    "### Q27)Write a code to create a list of 5 random numbers between 1 to 100,sort it in ascending order,and print the result.(replaced)"
   ]
  },
  {
   "cell_type": "code",
   "execution_count": 170,
   "id": "47b6c872-3a96-4ebb-b26a-b7c0737cb1a8",
   "metadata": {},
   "outputs": [],
   "source": [
    "l=[45,13,26,78,95]\n",
    "l=sorted(l)"
   ]
  },
  {
   "cell_type": "code",
   "execution_count": 171,
   "id": "36195df6-ae04-412c-9970-442fc11c0fd8",
   "metadata": {},
   "outputs": [
    {
     "data": {
      "text/plain": [
       "[13, 26, 45, 78, 95]"
      ]
     },
     "execution_count": 171,
     "metadata": {},
     "output_type": "execute_result"
    }
   ],
   "source": [
    "l"
   ]
  },
  {
   "cell_type": "markdown",
   "id": "836201dd-4ec6-4fdc-92bd-2e6d024311cd",
   "metadata": {
    "jp-MarkdownHeadingCollapsed": true
   },
   "source": [
    "### Q28)Write a code to create a list with strings and print the element at the third index.  "
   ]
  },
  {
   "cell_type": "code",
   "execution_count": 172,
   "id": "0caec512-fc2d-45b5-8b67-510da7437cbb",
   "metadata": {},
   "outputs": [
    {
     "data": {
      "text/plain": [
       "'keys'"
      ]
     },
     "execution_count": 172,
     "metadata": {},
     "output_type": "execute_result"
    }
   ],
   "source": [
    "lis=[\"house\",\"egg\",\"bottle\",\"keys\",\"mouse\"]\n",
    "lis[3]"
   ]
  },
  {
   "cell_type": "markdown",
   "id": "708f053a-cb56-48e5-b72b-ec12a0637a16",
   "metadata": {
    "jp-MarkdownHeadingCollapsed": true
   },
   "source": [
    "### Q29)Write a code to combine two dictionaries into one and print the result."
   ]
  },
  {
   "cell_type": "code",
   "execution_count": 179,
   "id": "bde4d509-0bf3-4ca6-8466-16796da55787",
   "metadata": {},
   "outputs": [],
   "source": [
    "d1 = {'name': 'Jeet Singh', 'department': 'Designing', 'salary': 75000}\n",
    "d2= {'address': 'RJ colony', 'contact no.': 6532489512}\n",
    "d1.update(d2)"
   ]
  },
  {
   "cell_type": "code",
   "execution_count": 180,
   "id": "c0ae6c8c-4057-4daa-acdf-ffa5cf714d14",
   "metadata": {},
   "outputs": [
    {
     "data": {
      "text/plain": [
       "{'name': 'Jeet Singh',\n",
       " 'department': 'Designing',\n",
       " 'salary': 75000,\n",
       " 'address': 'RJ colony',\n",
       " 'contact no.': 6532489512}"
      ]
     },
     "execution_count": 180,
     "metadata": {},
     "output_type": "execute_result"
    }
   ],
   "source": [
    "d1"
   ]
  },
  {
   "cell_type": "markdown",
   "id": "4e8a2e88-412e-4abb-bbbf-b0ff8675b408",
   "metadata": {
    "jp-MarkdownHeadingCollapsed": true
   },
   "source": [
    "### Q30)Write a code to convert a list of strings into a set."
   ]
  },
  {
   "cell_type": "code",
   "execution_count": 181,
   "id": "582a5762-6b4b-47cb-a7a8-de157e96c4fb",
   "metadata": {},
   "outputs": [],
   "source": [
    "list1 = [ \"Banana\", \"Mango\", \"Watermelon\", \"Apple\"]  \n",
    "s = set(list1) "
   ]
  },
  {
   "cell_type": "code",
   "execution_count": 182,
   "id": "15075a81-bd2a-4198-a197-7e71af967a5e",
   "metadata": {},
   "outputs": [
    {
     "data": {
      "text/plain": [
       "{'Apple', 'Banana', 'Mango', 'Watermelon'}"
      ]
     },
     "execution_count": 182,
     "metadata": {},
     "output_type": "execute_result"
    }
   ],
   "source": [
    "s"
   ]
  },
  {
   "cell_type": "code",
   "execution_count": null,
   "id": "9d8ab623-bb77-4c5a-aa1b-e55f3bf5b323",
   "metadata": {},
   "outputs": [],
   "source": []
  }
 ],
 "metadata": {
  "kernelspec": {
   "display_name": "Python 3 (ipykernel)",
   "language": "python",
   "name": "python3"
  },
  "language_info": {
   "codemirror_mode": {
    "name": "ipython",
    "version": 3
   },
   "file_extension": ".py",
   "mimetype": "text/x-python",
   "name": "python",
   "nbconvert_exporter": "python",
   "pygments_lexer": "ipython3",
   "version": "3.13.2"
  }
 },
 "nbformat": 4,
 "nbformat_minor": 5
}
